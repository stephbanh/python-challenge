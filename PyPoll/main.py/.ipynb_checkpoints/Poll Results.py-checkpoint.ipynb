{
 "cells": [
  {
   "cell_type": "code",
   "execution_count": 1,
   "metadata": {},
   "outputs": [],
   "source": [
    "# import necessary modules\n",
    "import os\n",
    "import csv\n",
    "\n",
    "# set up a dictionary \n",
    "candidates = {}"
   ]
  },
  {
   "cell_type": "code",
   "execution_count": 2,
   "metadata": {},
   "outputs": [],
   "source": [
    "# make a path to port in the csv\n",
    "cpath = os.path.join('..', 'Resources', 'election_data.csv')"
   ]
  },
  {
   "cell_type": "code",
   "execution_count": 3,
   "metadata": {},
   "outputs": [
    {
     "name": "stdout",
     "output_type": "stream",
     "text": [
      "{'Khan': 2218231, 'Correy': 704200, 'Li': 492940, \"O'Tooley\": 105630}\n"
     ]
    }
   ],
   "source": [
    "# open the csv\n",
    "with open(cpath) as polls:\n",
    "    reader = csv.reader(polls, delimiter = ',')\n",
    "    next(reader, None) # skip over header during reading\n",
    "    for row in reader:\n",
    "        # make the dictionary to hold the candidate names as keys and increment their values\n",
    "        # this is done with conditionals by checking the column where candidate names are listed\n",
    "        if row[2] in candidates:\n",
    "            # increase candidate vote here if they match \n",
    "            candidates[row[2]] = int(candidates[row[2]]) + 1\n",
    "        else:\n",
    "            # if different, then make a new row\n",
    "            candidates[row[2]] = 1\n",
    "# do not run twice as it will skew the values"
   ]
  },
  {
   "cell_type": "code",
   "execution_count": 4,
   "metadata": {},
   "outputs": [],
   "source": [
    "# use the dictionary to compute and find the values\n",
    "\n",
    "vals = list(candidates.values()) # function to extract all the values from their keys\n",
    "total_val = sum(vals) # add them up\n",
    "names = list(candidates.keys()) # get the names and convert them into a list\n",
    "winner = max(candidates,key=candidates.get) # used the max function to find the highest pair\n",
    "percent = [] # set up as a list to be able to fill in a loop\n",
    "i = 0\n",
    "while i < len(vals):\n",
    "    calc = vals[i]/total_val # calculation \n",
    "    formating = \"{:.3%}\".format(calc) # use format to write in the % value and symbol\n",
    "    percent.append(formating) # add to the list\n",
    "    i += 1 # increment to make sure loop closes"
   ]
  },
  {
   "cell_type": "code",
   "execution_count": 5,
   "metadata": {},
   "outputs": [
    {
     "name": "stdout",
     "output_type": "stream",
     "text": [
      "Election Results\n",
      "-------------------------\n",
      "Total Votes: 3521001\n",
      "Khan: 63.000% (2218231)\n",
      "Correy: 20.000% (704200)\n",
      "Li: 14.000% (492940)\n",
      "O'Tooley: 3.000% (105630)\n",
      "-------------------------\n",
      "Winner: Khan\n",
      "-------------------------\n"
     ]
    }
   ],
   "source": [
    "# print results to the terminal    \n",
    "print(\"Election Results\\n-------------------------\")\n",
    "print(f\"Total Votes: {total_val}\")\n",
    "print(f\"{names[0]}: {percent[0]} ({vals[0]})\")\n",
    "print(f\"{names[1]}: {percent[1]} ({vals[1]})\")\n",
    "print(f\"{names[2]}: {percent[2]} ({vals[2]})\")\n",
    "print(f\"{names[3]}: {percent[3]} ({vals[3]})\")\n",
    "print(f\"-------------------------\")\n",
    "print(f\"Winner: {winner}\")\n",
    "print(f\"-------------------------\")"
   ]
  },
  {
   "cell_type": "code",
   "execution_count": 6,
   "metadata": {},
   "outputs": [],
   "source": [
    "# write out a text file to the desired folder\n",
    "opath = os.path.join(\"..\", \"Analysis\", \"results.txt\")\n",
    "\n",
    "with open(opath, 'w') as new: \n",
    "    # write and format the results    \n",
    "    new.write(\"Election Results\\n\")\n",
    "    new.write(\"-------------------------\\n\")\n",
    "    new.write(f\"Total Votes: {total_val}\\n\")\n",
    "    new.write(\"-------------------------\\n\")\n",
    "    new.write(f\"{names[0]}: {percent[0]} ({vals[0]})\\n\")\n",
    "    new.write(f\"{names[1]}: {percent[1]} ({vals[1]})\\n\")\n",
    "    new.write(f\"{names[2]}: {percent[2]} ({vals[2]})\\n\")\n",
    "    new.write(f\"{names[3]}: {percent[3]} ({vals[3]})\\n\")\n",
    "    new.write(\"-------------------------\\n\")\n",
    "    new.write(f\"Winner: {winner}\\n\")\n",
    "    new.write(\"-------------------------\\n\")"
   ]
  }
 ],
 "metadata": {
  "kernelspec": {
   "display_name": "Python 3",
   "language": "python",
   "name": "python3"
  },
  "language_info": {
   "codemirror_mode": {
    "name": "ipython",
    "version": 3
   },
   "file_extension": ".py",
   "mimetype": "text/x-python",
   "name": "python",
   "nbconvert_exporter": "python",
   "pygments_lexer": "ipython3",
   "version": "3.7.6"
  }
 },
 "nbformat": 4,
 "nbformat_minor": 4
}
