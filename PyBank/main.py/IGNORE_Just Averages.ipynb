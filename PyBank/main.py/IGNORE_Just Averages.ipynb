{
 "cells": [
  {
   "cell_type": "code",
   "execution_count": 2,
   "metadata": {},
   "outputs": [],
   "source": [
    "# used as a testing ground for code\n",
    "# import necessary modules\n",
    "import os\n",
    "import csv\n",
    "import pandas as pd"
   ]
  },
  {
   "cell_type": "code",
   "execution_count": 3,
   "metadata": {},
   "outputs": [],
   "source": [
    "cpath = os.path.join('..', 'Resources', 'budget_data.csv')"
   ]
  },
  {
   "cell_type": "code",
   "execution_count": 7,
   "metadata": {},
   "outputs": [
    {
     "name": "stdout",
     "output_type": "stream",
     "text": [
      "Feb-2012\n",
      "Sep-2013\n",
      "-2315.1176470588234\n"
     ]
    }
   ],
   "source": [
    "df = pd.read_csv(cpath)\n",
    "# convert this column to make it calculable\n",
    "df[\"Profit/Losses\"]= df[\"Profit/Losses\"].astype(int)\n",
    "# make a new data frame and column to hold the differences\n",
    "new_df = df.assign(D_val=lambda d: d[\"Profit/Losses\"].diff().fillna(0))\n",
    "diffs = new_df[\"D_val\"]\n",
    "max_val = diffs.max()\n",
    "min_val = diffs.min()\n",
    "\n",
    "# the average cannot be done with just .mean(). Since the first in the column is 0\n",
    "test_sum = sum(diffs)\n",
    "\n",
    "#print(max_val)\n",
    "#print(min_val)\n",
    "#print(avg)\n",
    "biggest_mon = \"\"\n",
    "lowest_mon = \"\"\n",
    "row_count = len(new_df)\n",
    "avg = test_sum/(row_count - 1)\n",
    "sums = new_df[\"Profit/Losses\"]\n",
    "total = sum(sums)\n",
    "for index, row in new_df.iterrows():\n",
    "    if int(row[\"D_val\"]) == int(max_val):\n",
    "        print(row[\"Date\"])\n",
    "    if int(row[\"D_val\"]) == int(min_val):\n",
    "        print(row[\"Date\"])\n",
    "#print(total)\n",
    "print(avg)"
   ]
  },
  {
   "cell_type": "code",
   "execution_count": 14,
   "metadata": {},
   "outputs": [
    {
     "name": "stdout",
     "output_type": "stream",
     "text": [
      "Index(['Date', 'Profit/Losses'], dtype='object')\n"
     ]
    }
   ],
   "source": []
  },
  {
   "cell_type": "code",
   "execution_count": null,
   "metadata": {},
   "outputs": [],
   "source": []
  }
 ],
 "metadata": {
  "kernelspec": {
   "display_name": "Python 3",
   "language": "python",
   "name": "python3"
  },
  "language_info": {
   "codemirror_mode": {
    "name": "ipython",
    "version": 3
   },
   "file_extension": ".py",
   "mimetype": "text/x-python",
   "name": "python",
   "nbconvert_exporter": "python",
   "pygments_lexer": "ipython3",
   "version": "3.7.6"
  }
 },
 "nbformat": 4,
 "nbformat_minor": 4
}
