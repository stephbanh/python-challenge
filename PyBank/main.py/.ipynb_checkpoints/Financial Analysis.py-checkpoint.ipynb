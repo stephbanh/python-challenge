{
 "cells": [
  {
   "cell_type": "code",
   "execution_count": 1,
   "metadata": {},
   "outputs": [],
   "source": [
    "# import necessary modules\n",
    "import os\n",
    "import csv"
   ]
  },
  {
   "cell_type": "code",
   "execution_count": 2,
   "metadata": {},
   "outputs": [],
   "source": [
    "# create a path to reference the spreadsheet\n",
    "cpath = os.path.join('..', 'Resources', 'budget_data.csv')"
   ]
  },
  {
   "cell_type": "code",
   "execution_count": 3,
   "metadata": {},
   "outputs": [],
   "source": [
    "# create variable to hold the imported values \n",
    "report = {\"Dates\":[],\"Profits/Losses\":[],\"Differences\":[]}\n",
    "\n",
    "with open(cpath) as profits:\n",
    "    reader = csv.reader(profits, delimiter = ',')\n",
    "    next(reader, None)\n",
    "    storage = 0\n",
    "       \n",
    "    # use it to fill in the dictionary values for dates and profits/losses\n",
    "    for row in reader:\n",
    "        \n",
    "        report[\"Dates\"].append(row[0])\n",
    "        report[\"Profits/Losses\"].append(int(row[1]))\n",
    "        diffs = int(row[1]) - storage \n",
    "        report[\"Differences\"].append(diffs) # need to remove the first value\n",
    "        storage = int(row[1])\n"
   ]
  },
  {
   "cell_type": "code",
   "execution_count": 4,
   "metadata": {},
   "outputs": [],
   "source": [
    "# the length of dates will be the length of months \n",
    "total_months = len(report[\"Dates\"])"
   ]
  },
  {
   "cell_type": "code",
   "execution_count": 5,
   "metadata": {},
   "outputs": [],
   "source": [
    "# add up all the values in profits/losses\n",
    "total_earned = sum(report[\"Profits/Losses\"])"
   ]
  },
  {
   "cell_type": "code",
   "execution_count": 6,
   "metadata": {},
   "outputs": [],
   "source": [
    "# remove the first value of the differences dictionary \n",
    "# since it has no previous row to reference and is using a defaulted value of 0 it will skew the data\n",
    "report[\"Differences\"].pop(0)\n",
    "diff_sums = sum(report[\"Differences\"])\n",
    "average_change = round(diff_sums/len(report[\"Differences\"]),2)\n"
   ]
  },
  {
   "cell_type": "code",
   "execution_count": 7,
   "metadata": {},
   "outputs": [],
   "source": [
    "# calculate greatest mon and value here\n",
    "greatest_increase_val = max(report[\"Differences\"])\n",
    "greatest_decrease_val = min(report[\"Differences\"])"
   ]
  },
  {
   "cell_type": "code",
   "execution_count": 8,
   "metadata": {},
   "outputs": [],
   "source": [
    "# use conditionals to match them and a loop to iterate through the differences list to search for them\n",
    "i = 0 \n",
    "while i < len(report[\"Differences\"]):\n",
    "    if report[\"Differences\"][i] == greatest_increase_val:\n",
    "        # match with i + 1 as differences list is off by one (has one less value for computation reasons)\n",
    "        greatest_increase_mon = report[\"Dates\"][i+1]\n",
    "    if report[\"Differences\"][i] == greatest_decrease_val:\n",
    "        # match with i + 1 as differences listis off by one (has one less value for computation reasons)\n",
    "        greatest_decrease_mon = report[\"Dates\"][i+1]\n",
    "    i += 1"
   ]
  },
  {
   "cell_type": "code",
   "execution_count": 9,
   "metadata": {},
   "outputs": [
    {
     "name": "stdout",
     "output_type": "stream",
     "text": [
      "Financial Analysis\n",
      "----------------------------\n",
      "Total Months: 86\n",
      "Total: $38382578\n",
      "Average Change: $-2315.12\n",
      "Greatest Increase in Profits: Feb-2012 ($1926159)\n",
      "Greatest Decrease in Profits: Sep-2013 ($-2196167)\n"
     ]
    }
   ],
   "source": [
    "#print results to terminal\n",
    "print(\"Financial Analysis\")\n",
    "print(\"----------------------------\")\n",
    "print(\"Total Months: \" + str(total_months))\n",
    "print(\"Total: $\" + str(total_earned))\n",
    "print(\"Average Change: $\" + str(average_change))\n",
    "print(\"Greatest Increase in Profits: \" + str(greatest_increase_mon) + \" ($\" + str(greatest_increase_val) + \")\" )\n",
    "print(\"Greatest Decrease in Profits: \" + str(greatest_decrease_mon) + \" ($\" + str(greatest_decrease_val) + \")\" )"
   ]
  },
  {
   "cell_type": "code",
   "execution_count": 10,
   "metadata": {},
   "outputs": [],
   "source": [
    "# export the terminal information to a txt file sent to the Analysis folder\n",
    "opath = os.path.join(\"..\", \"Analysis\", \"results.txt\")\n",
    "\n",
    "with open(opath, 'w') as new: \n",
    "    #write and format the results\n",
    "    \n",
    "    new.write(\"Financial Analysis\\n\")\n",
    "    new.write(\"----------------------------\\n\")\n",
    "    new.write(\"Total Months: \" + str(total_months) + \"\\n\")\n",
    "    new.write(\"Total: $\" + str(total_earned) + \"\\n\")\n",
    "    new.write(\"Average Change: $\" + str(average_change) + \"\\n\")\n",
    "    new.write(\"Greatest Increase in Profits: \" + str(greatest_increase_mon) + \" ($\" + str(greatest_increase_val) + \")\\n\" )\n",
    "    new.write(\"Greatest Decrease in Profits: \" + str(greatest_decrease_mon) + \" ($\" + str(greatest_decrease_val) + \")\\n\" )"
   ]
  },
  {
   "cell_type": "code",
   "execution_count": null,
   "metadata": {},
   "outputs": [],
   "source": []
  }
 ],
 "metadata": {
  "kernelspec": {
   "display_name": "Python 3",
   "language": "python",
   "name": "python3"
  },
  "language_info": {
   "codemirror_mode": {
    "name": "ipython",
    "version": 3
   },
   "file_extension": ".py",
   "mimetype": "text/x-python",
   "name": "python",
   "nbconvert_exporter": "python",
   "pygments_lexer": "ipython3",
   "version": "3.7.6"
  }
 },
 "nbformat": 4,
 "nbformat_minor": 4
}
