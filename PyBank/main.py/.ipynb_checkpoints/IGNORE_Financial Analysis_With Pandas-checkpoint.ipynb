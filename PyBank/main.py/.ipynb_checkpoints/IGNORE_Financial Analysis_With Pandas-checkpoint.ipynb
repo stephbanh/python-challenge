{
 "cells": [
  {
   "cell_type": "code",
   "execution_count": 2,
   "metadata": {},
   "outputs": [],
   "source": [
    "# import necessary modules\n",
    "import os\n",
    "import csv\n",
    "#import pandas as pd. This does work but it is not allowed for this assignment."
   ]
  },
  {
   "cell_type": "code",
   "execution_count": 3,
   "metadata": {},
   "outputs": [],
   "source": [
    "# create a path to reference the spreadsheet\n",
    "cpath = os.path.join('..', 'Resources', 'budget_data.csv')"
   ]
  },
  {
   "cell_type": "code",
   "execution_count": 4,
   "metadata": {},
   "outputs": [],
   "source": [
    "# feed the csv into a pandas data frame\n",
    "df = pd.read_csv(cpath)\n",
    "\n",
    "# convert this column to make it calculable\n",
    "df[\"Profit/Losses\"]= df[\"Profit/Losses\"].astype(int)\n",
    "\n",
    "# make a new data frame and column to hold the differences\n",
    "new_df = df.assign(D_val=lambda d: d[\"Profit/Losses\"].diff().fillna(0))"
   ]
  },
  {
   "cell_type": "code",
   "execution_count": 10,
   "metadata": {},
   "outputs": [],
   "source": [
    "# isolate the new column and use it to calculate values\n",
    "diffs = new_df[\"D_val\"]\n",
    "greatest_increase_val = int(diffs.max())\n",
    "greatest_decrease_val = int(diffs.min())"
   ]
  },
  {
   "cell_type": "code",
   "execution_count": 11,
   "metadata": {},
   "outputs": [],
   "source": [
    "# row count will also be the total amount of months\n",
    "total_months = len(new_df)"
   ]
  },
  {
   "cell_type": "code",
   "execution_count": 12,
   "metadata": {},
   "outputs": [],
   "source": [
    "#one column needs to be skipped when calculating average as it will start as zero since the first row of profit/losses has nothing to subtract against\n",
    "# thus we do not use .mean() but use a new variable to sum up all the differences and then divide by total months minus one\n",
    "diff_sum = sum(diffs)\n",
    "average_change = round(diff_sum / (total_months - 1),2) \n"
   ]
  },
  {
   "cell_type": "code",
   "execution_count": 13,
   "metadata": {},
   "outputs": [],
   "source": [
    "# isolate profit and losses to find the sum\n",
    "sums = new_df[\"Profit/Losses\"]\n",
    "total_earned = sum(sums)"
   ]
  },
  {
   "cell_type": "code",
   "execution_count": 16,
   "metadata": {},
   "outputs": [],
   "source": [
    "# iterate through the data frame to find the corresponding months to the min and max differences\n",
    "greatest_increase_mon = \"\"\n",
    "greatest_decrease_mon = \"\"\n",
    "for index, row in new_df.iterrows():\n",
    "    if int(row[\"D_val\"]) == greatest_increase_val:\n",
    "        greatest_increase_mon = row[\"Date\"]\n",
    "    if int(row[\"D_val\"]) == greatest_decrease_val:\n",
    "        greatest_decrease_mon = row[\"Date\"]"
   ]
  },
  {
   "cell_type": "code",
   "execution_count": 17,
   "metadata": {},
   "outputs": [
    {
     "name": "stdout",
     "output_type": "stream",
     "text": [
      "Financial Analysis\n",
      "----------------------------\n",
      "Total Months: 86\n",
      "Total: $38382578\n",
      "Average Change: $-2315.12\n",
      "Greatest Increase in Profits: Feb-2012 ($1926159)\n",
      "Greatest Decrease in Profits: Sep-2013 ($-2196167)\n"
     ]
    }
   ],
   "source": [
    "#print results to terminal\n",
    "print(\"Financial Analysis\")\n",
    "print(\"----------------------------\")\n",
    "print(\"Total Months: \" + str(total_months))\n",
    "print(\"Total: $\" + str(total_earned))\n",
    "print(\"Average Change: $\" + str(average_change))\n",
    "print(\"Greatest Increase in Profits: \" + str(greatest_increase_mon) + \" ($\" + str(greatest_increase_val) + \")\" )\n",
    "print(\"Greatest Decrease in Profits: \" + str(greatest_decrease_mon) + \" ($\" + str(greatest_decrease_val) + \")\" )"
   ]
  },
  {
   "cell_type": "code",
   "execution_count": 18,
   "metadata": {},
   "outputs": [],
   "source": [
    "# final formatting/expected results\n",
    "#  ```text\n",
    "  #Financial Analysis\n",
    "  #----------------------------\n",
    "  #Total Months: 86\n",
    "  #Total: $38382578\n",
    "  #Average  Change: $-2315.12 \n",
    "  #Greatest Increase in Profits: Feb-2012 ($1926159)\n",
    "  #Greatest Decrease in Profits: Sep-2013 ($-2196167)\n",
    "  #```\n",
    "\n",
    "# this should all be exported to a txt file sent to the Analysis folder\n",
    "opath = os.path.join(\"..\", \"Analysis\", \"results.txt\")\n",
    "\n",
    "with open(opath, 'w') as new: \n",
    "    #write and format the results\n",
    "    \n",
    "    new.write(\"Financial Analysis\\n\")\n",
    "    new.write(\"----------------------------\\n\")\n",
    "    new.write(\"Total Months: \" + str(total_months) + \"\\n\")\n",
    "    new.write(\"Total: $\" + str(total_earned) + \"\\n\")\n",
    "    new.write(\"Average Change: $\" + str(average_change) + \"\\n\")\n",
    "    new.write(\"Greatest Increase in Profits: \" + str(greatest_increase_mon) + \" ($\" + str(greatest_increase_val) + \")\\n\" )\n",
    "    new.write(\"Greatest Decrease in Profits: \" + str(greatest_decrease_mon) + \" ($\" + str(greatest_decrease_val) + \")\\n\" )"
   ]
  },
  {
   "cell_type": "code",
   "execution_count": null,
   "metadata": {},
   "outputs": [],
   "source": []
  }
 ],
 "metadata": {
  "kernelspec": {
   "display_name": "Python 3",
   "language": "python",
   "name": "python3"
  },
  "language_info": {
   "codemirror_mode": {
    "name": "ipython",
    "version": 3
   },
   "file_extension": ".py",
   "mimetype": "text/x-python",
   "name": "python",
   "nbconvert_exporter": "python",
   "pygments_lexer": "ipython3",
   "version": "3.7.6"
  }
 },
 "nbformat": 4,
 "nbformat_minor": 4
}
